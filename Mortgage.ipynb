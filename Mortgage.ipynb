{
  "nbformat": 4,
  "nbformat_minor": 0,
  "metadata": {
    "colab": {
      "name": "Mortgage.ipynb",
      "provenance": [],
      "authorship_tag": "ABX9TyNfN2DcS5EcgIPHBzEMLGIB",
      "include_colab_link": true
    },
    "kernelspec": {
      "name": "python3",
      "display_name": "Python 3"
    }
  },
  "cells": [
    {
      "cell_type": "markdown",
      "metadata": {
        "id": "view-in-github",
        "colab_type": "text"
      },
      "source": [
        "<a href=\"https://colab.research.google.com/github/keskinyasir/Project-Mortgage-Loan/blob/master/Mortgage.ipynb\" target=\"_parent\"><img src=\"https://colab.research.google.com/assets/colab-badge.svg\" alt=\"Open In Colab\"/></a>"
      ]
    },
    {
      "cell_type": "code",
      "metadata": {
        "id": "2gytmpZXj8wT",
        "colab_type": "code",
        "colab": {
          "base_uri": "https://localhost:8080/",
          "height": 50
        },
        "outputId": "06c07731-5c60-4cf5-bcf7-b9971daaad0d"
      },
      "source": [
        "#TAKING OUT A MORTGAGE LOAN\n",
        "\n",
        "import numpy as np\n",
        "home_value = 800000\n",
        "# What percentage are you paying up-front\n",
        "down_payment_percent = 0.2 \n",
        "# Dollar value of the down payment \n",
        "down_payment = home_value * down_payment_percent\n",
        "print(\"Initial Down Payment: \" + str(down_payment))\n",
        "# Value of the mortgage loan required after the down payment\n",
        "mortgage_loan = home_value - down_payment\n",
        "print(\"Mortgage Loan: \" + str(mortgage_loan))"
      ],
      "execution_count": null,
      "outputs": [
        {
          "output_type": "stream",
          "text": [
            "Initial Down Payment: 160000.0\n",
            "Mortgage Loan: 640000.0\n"
          ],
          "name": "stdout"
        }
      ]
    },
    {
      "cell_type": "code",
      "metadata": {
        "id": "lnpQvwXblpC9",
        "colab_type": "code",
        "colab": {
          "base_uri": "https://localhost:8080/",
          "height": 87
        },
        "outputId": "37b96e08-7c05-4507-ad69-ae43588f0c07"
      },
      "source": [
        "#CALCULATING THE MONTLY MORTGAGE PAYMENT\n",
        "\n",
        "import numpy as np\n",
        "# Derive the equivalent montly mortgage rate from the annual rate\n",
        "mortgage_rate_periodic = ((1+0.0375)**(1/12)-1)\n",
        "# How many monthly payment periods will there be over 30 years?\n",
        "mortgage_payment_periods = 12*30\n",
        "# Calculate the monthly morgage payment (multiply by -1 to keep it positive)\n",
        "periodic_mortgage_payment = -1*np.pmt(mortgage_rate_periodic, mortgage_payment_periods, 640000)\n",
        "print(\"Monthly Mortgage Payment: \" + str(round(periodic_mortgage_payment, 2)))"
      ],
      "execution_count": null,
      "outputs": [
        {
          "output_type": "stream",
          "text": [
            "Monthly Mortgage Payment: 2941.13\n"
          ],
          "name": "stdout"
        },
        {
          "output_type": "stream",
          "text": [
            "/usr/local/lib/python3.6/dist-packages/ipykernel_launcher.py:9: DeprecationWarning: numpy.pmt is deprecated and will be removed from NumPy 1.20. Use numpy_financial.pmt instead (https://pypi.org/project/numpy-financial/).\n",
            "  if __name__ == '__main__':\n"
          ],
          "name": "stderr"
        }
      ]
    },
    {
      "cell_type": "code",
      "metadata": {
        "id": "_mJuZeVFpBps",
        "colab_type": "code",
        "colab": {
          "base_uri": "https://localhost:8080/",
          "height": 50
        },
        "outputId": "122baecc-abc7-45e2-c87f-4c54dfd66645"
      },
      "source": [
        "#CALCULATING INTEREST AND PRINCIPAL PAYMENTS\n",
        "\n",
        "# Amount of the first loan payment that will go towards interest\n",
        "initial_interest_payment = mortgage_loan * mortgage_rate_periodic\n",
        "print(\"Initial Interest Payment: \" + str(round(initial_interest_payment, 2)))\n",
        "# Amount of the first loan payment that will go towards principal\n",
        "initiaal_principal_payment = periodic_mortgage_payment-initial_interest_payment\n",
        "print(\"Initial Principal Payment: \" + str(round(initiaal_principal_payment, 2))) "
      ],
      "execution_count": null,
      "outputs": [
        {
          "output_type": "stream",
          "text": [
            "Initial Interest Payment: 1966.43\n",
            "Initial Principal Payment: 974.7\n"
          ],
          "name": "stdout"
        }
      ]
    },
    {
      "cell_type": "code",
      "metadata": {
        "id": "einNunfsuTQ7",
        "colab_type": "code",
        "colab": {
          "base_uri": "https://localhost:8080/",
          "height": 420
        },
        "outputId": "dfa277d1-c86e-4b7c-bf21-36efaf9244d9"
      },
      "source": [
        "#SIMULATING PERIODIC PAYMENTS(1)\n",
        "\n",
        "# Print the payments for the first few periods\n",
        "def print_payments(i, interest_payment, principal_payment, principal_remaining):\n",
        "  if i < 6:\n",
        "    print(\"Period \" + str(i) + \":\\n\" + \"Interest Paid : \" + str(interest_payment) + \"\\n\" + \"Principal Paid : \" + str(principal_payment) + \"\\n\" + \"Balance : \" + str(principal_remaining[i]))\n",
        "\n",
        "# Loop through each mortgage payment period\n",
        "principal_remaining = [i for i in range(mortgage_payment_periods)]\n",
        "for i in range(0, mortgage_payment_periods):\n",
        "  # Handle the case for the first iteration\n",
        "  if i == 0:\n",
        "    previous_principal_remaining = mortgage_loan\n",
        "  else:\n",
        "    previous_principal_remaining = principal_remaining[i-1]\n",
        "  # Calculate the interest and principal payments\n",
        "  interest_payment = round(previous_principal_remaining * mortgage_rate_periodic, 2)\n",
        "  principal_payment = round(periodic_mortgage_payment - interest_payment, 2)\n",
        "  # Catch the case where all principal is paid off in the final period\n",
        "  if previous_principal_remaining - principal_payment < 0 :\n",
        "    principal_payment = previous_principal_remaining\n",
        "  # Collect the principal remaining values in an array\n",
        "  principal_remaining[i] = previous_principal_remaining - principal_payment\n",
        "  # Print the payments for the first few periods\n",
        "  print_payments(i, interest_payment, principal_payment, principal_remaining)"
      ],
      "execution_count": null,
      "outputs": [
        {
          "output_type": "stream",
          "text": [
            "Period 0:\n",
            "Interest Paid : 1966.43\n",
            "Principal Paid : 974.7\n",
            "Balance : 639025.3\n",
            "Period 1:\n",
            "Interest Paid : 1963.43\n",
            "Principal Paid : 977.7\n",
            "Balance : 638047.6000000001\n",
            "Period 2:\n",
            "Interest Paid : 1960.43\n",
            "Principal Paid : 980.7\n",
            "Balance : 637066.9000000001\n",
            "Period 3:\n",
            "Interest Paid : 1957.41\n",
            "Principal Paid : 983.72\n",
            "Balance : 636083.1800000002\n",
            "Period 4:\n",
            "Interest Paid : 1954.39\n",
            "Principal Paid : 986.74\n",
            "Balance : 635096.4400000002\n",
            "Period 5:\n",
            "Interest Paid : 1951.36\n",
            "Principal Paid : 989.77\n",
            "Balance : 634106.6700000002\n"
          ],
          "name": "stdout"
        }
      ]
    },
    {
      "cell_type": "code",
      "metadata": {
        "id": "Y-5ksIt-daVl",
        "colab_type": "code",
        "colab": {
          "base_uri": "https://localhost:8080/",
          "height": 229
        },
        "outputId": "cacf0ccc-5849-4743-a940-d1dc3c43c244"
      },
      "source": [
        "#SIMULATING PERIODIC PAYMENTS(2)\n",
        "\n",
        "import matplotlib as plt\n",
        "# Loop through each mortgage payment period\n",
        "for i in range(0, mortgage_payment_periods):\n",
        "  # Handle the case for the first iteration\n",
        "  if i == 0:\n",
        "    previous_principal_remaining = mortgage_loan\n",
        "  else:\n",
        "    previous_principal_remaining = principal_remaining[i-1]\n",
        "  # Calculate the interest and principal payments\n",
        "  interest_payment = round(previous_principal_remaining * mortgage_rate_periodic, 2)\n",
        "  principal_payment = round(periodic_mortgage_payment - interest_payment, 2)\n",
        "  # Catch the case where all principal is paid off in the final period\n",
        "  if previous_principal_remaining - principal_payment < 0 :\n",
        "    principal_payment = previous_principal_remaining\n",
        "  # Collect the principal remaining values in an array\n",
        "  interest_paid[i] = interest_payment\n",
        "  principal_paid[i] = principal_payment\n",
        "  principal_remaining[i] = previous_principal_remaining - principal_payment\n",
        "  # Plot the interest vs principal\n",
        "  plt.plot(interest_paid, color = \"red\")\n",
        "  plt.plot(principal_paid, color = \"blue\")\n",
        "  plt.legend(handles = [interest_plot, principal_plot], loc = 2)\n",
        "  plt.show()"
      ],
      "execution_count": 22,
      "outputs": [
        {
          "output_type": "error",
          "ename": "IndexError",
          "evalue": "ignored",
          "traceback": [
            "\u001b[0;31m---------------------------------------------------------------------------\u001b[0m",
            "\u001b[0;31mIndexError\u001b[0m                                Traceback (most recent call last)",
            "\u001b[0;32m<ipython-input-22-129a5ac1bceb>\u001b[0m in \u001b[0;36m<module>\u001b[0;34m()\u001b[0m\n\u001b[1;32m     17\u001b[0m       \u001b[0mprincipal_payment\u001b[0m \u001b[0;34m=\u001b[0m \u001b[0mprevious_principal_remaining\u001b[0m\u001b[0;34m\u001b[0m\u001b[0;34m\u001b[0m\u001b[0m\n\u001b[1;32m     18\u001b[0m     \u001b[0;31m# Collect the principal remaining values in an array\u001b[0m\u001b[0;34m\u001b[0m\u001b[0;34m\u001b[0m\u001b[0;34m\u001b[0m\u001b[0m\n\u001b[0;32m---> 19\u001b[0;31m     \u001b[0minterest_paid\u001b[0m\u001b[0;34m[\u001b[0m\u001b[0mi\u001b[0m\u001b[0;34m]\u001b[0m \u001b[0;34m=\u001b[0m \u001b[0minterest_payment\u001b[0m\u001b[0;34m\u001b[0m\u001b[0;34m\u001b[0m\u001b[0m\n\u001b[0m\u001b[1;32m     20\u001b[0m     \u001b[0mprincipal_paid\u001b[0m\u001b[0;34m[\u001b[0m\u001b[0mi\u001b[0m\u001b[0;34m]\u001b[0m \u001b[0;34m=\u001b[0m \u001b[0mprincipal_payment\u001b[0m\u001b[0;34m\u001b[0m\u001b[0;34m\u001b[0m\u001b[0m\n\u001b[1;32m     21\u001b[0m     \u001b[0mprincipal_remaining\u001b[0m\u001b[0;34m[\u001b[0m\u001b[0mi\u001b[0m\u001b[0;34m]\u001b[0m \u001b[0;34m=\u001b[0m \u001b[0mprevious_principal_remaining\u001b[0m \u001b[0;34m-\u001b[0m \u001b[0mprincipal_payment\u001b[0m\u001b[0;34m\u001b[0m\u001b[0;34m\u001b[0m\u001b[0m\n",
            "\u001b[0;31mIndexError\u001b[0m: list assignment index out of range"
          ]
        }
      ]
    },
    {
      "cell_type": "code",
      "metadata": {
        "id": "gWXFukgtJaQ5",
        "colab_type": "code",
        "colab": {}
      },
      "source": [
        ""
      ],
      "execution_count": null,
      "outputs": []
    }
  ]
}